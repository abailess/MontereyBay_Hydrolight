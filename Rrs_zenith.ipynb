{
 "cells": [
  {
   "cell_type": "code",
   "execution_count": 1,
   "id": "0624bc4c-18f7-4abf-9ee3-5de5c1a3aa79",
   "metadata": {},
   "outputs": [],
   "source": [
    "import pandas as pd\n",
    "import matplotlib.pyplot as plt\n",
    "import numpy as np"
   ]
  },
  {
   "cell_type": "code",
   "execution_count": 2,
   "id": "e0b9b6df-6e53-43b5-ba15-792083794000",
   "metadata": {
    "tags": []
   },
   "outputs": [
    {
     "name": "stderr",
     "output_type": "stream",
     "text": [
      "/opt/conda/lib/python3.11/site-packages/openpyxl/styles/stylesheet.py:226: UserWarning: Workbook contains no default style, apply openpyxl's default\n",
      "  warn(\"Workbook contains no default style, apply openpyxl's default\")\n",
      "/opt/conda/lib/python3.11/site-packages/openpyxl/styles/stylesheet.py:226: UserWarning: Workbook contains no default style, apply openpyxl's default\n",
      "  warn(\"Workbook contains no default style, apply openpyxl's default\")\n",
      "/opt/conda/lib/python3.11/site-packages/openpyxl/styles/stylesheet.py:226: UserWarning: Workbook contains no default style, apply openpyxl's default\n",
      "  warn(\"Workbook contains no default style, apply openpyxl's default\")\n",
      "/opt/conda/lib/python3.11/site-packages/openpyxl/styles/stylesheet.py:226: UserWarning: Workbook contains no default style, apply openpyxl's default\n",
      "  warn(\"Workbook contains no default style, apply openpyxl's default\")\n"
     ]
    }
   ],
   "source": [
    "AW14 = pd.read_excel('MAngles14.xlsx', sheet_name='Rrs', skiprows = 3)\n",
    "AW16 = pd.read_excel('MAngles16.xlsx', sheet_name='Rrs', skiprows = 3)\n",
    "AW19 = pd.read_excel('MAngles19.xlsx', sheet_name='Rrs', skiprows = 3)\n",
    "AW24 = pd.read_excel('MAngles24.xlsx', sheet_name='Rrs', skiprows = 3)"
   ]
  },
  {
   "cell_type": "code",
   "execution_count": 3,
   "id": "294bda0e-fcda-4e05-ad0c-adae92007ec2",
   "metadata": {
    "tags": []
   },
   "outputs": [],
   "source": [
    "Rrs14 = AW14.loc[0:199, 'Rrs']\n",
    "Rrs16 = AW16.loc[0:199, 'Rrs']\n",
    "Rrs19 = AW19.loc[0:199, 'Rrs']\n",
    "Rrs24 = AW24.loc[0:199, 'Rrs']\n",
    "\n",
    "Lw14 = AW14.loc[0:199, 'Lw']\n",
    "Lw16 = AW16.loc[0:199, 'Lw']\n",
    "Lw19 = AW19.loc[0:199, 'Lw']\n",
    "Lw24 = AW24.loc[0:199, 'Lw']\n",
    "\n",
    "Ed14 = AW14.loc[0:199, 'Ed']\n",
    "Ed16 = AW16.loc[0:199, 'Ed']\n",
    "Ed19 = AW19.loc[0:199, 'Ed']\n",
    "Ed24 = AW24.loc[0:199, 'Ed']\n",
    "\n",
    "Lu14 = AW14.loc[0:199, 'Lu']\n",
    "Lu16 = AW16.loc[0:199, 'Lu']\n",
    "Lu19 = AW19.loc[0:199, 'Lu']\n",
    "Lu24 = AW24.loc[0:199, 'Lu']"
   ]
  },
  {
   "cell_type": "code",
   "execution_count": 4,
   "id": "054f8c27-f334-413f-bcef-f2997219bc7e",
   "metadata": {
    "tags": []
   },
   "outputs": [],
   "source": [
    "lams = AW14.loc[0:199, 'in air']"
   ]
  },
  {
   "cell_type": "code",
   "execution_count": null,
   "id": "7a669b79-6021-456e-a4ad-ba403b27c019",
   "metadata": {
    "tags": []
   },
   "outputs": [],
   "source": [
    "%matplotlib widget\n",
    "\n",
    "plt.plot(lams, Rrs14, label = 'Rrs 7am', linestyle = '--')\n",
    "plt.plot(lams, Rrs16, label = 'Rrs 9am', linestyle = '--')\n",
    "plt.plot(lams, Rrs19, label = 'Rrs 12pm', linestyle = '--')\n",
    "plt.plot(lams, Rrs24, label = 'Rrs 4pm', linestyle = '--')\n",
    "\n",
    "plt.xlabel('Wavelength')\n",
    "plt.ylabel('W/m^2 nm sr')\n",
    "plt.title('Rrs at different zenith angles')\n",
    "plt.legend()\n",
    "\n",
    "plt.show()"
   ]
  },
  {
   "cell_type": "code",
   "execution_count": null,
   "id": "8b8c72eb-4f4b-4bd5-bb65-c5b0c75c3d63",
   "metadata": {
    "tags": []
   },
   "outputs": [],
   "source": [
    "%matplotlib widget\n",
    "fig, ax1 = plt.subplots()\n",
    "\n",
    "ax4 = ax1.twinx()\n",
    "l1, = ax4.plot(lams, Rrs14, label = 'Rrs 7am', linestyle = '--', color = 'orange')\n",
    "\n",
    "\n",
    "l2, = ax1.plot(lams, Rrs16, label = 'Rrs 9am', linestyle = '--', color = 'red')\n",
    "\n",
    "ax2 = ax1.twinx()\n",
    "\n",
    "l3, = ax2.plot(lams, Rrs19, label = 'Rrs 12pm', linestyle = '--', color = 'purple')\n",
    "\n",
    "ax3 = ax1.twinx()\n",
    "\n",
    "l4, = ax3.plot(lams, Rrs24, label = 'Rrs 4pm', linestyle = '--', color = 'blue')\n",
    "\n",
    "\n",
    "# Offset the second secondary y-axis\n",
    "ax3.spines['right'].set_position(('outward', 60))\n",
    "ax4.spines['right'].set_position(('outward', 60))\n",
    "\n",
    "\n",
    "lines = [l1, l2, l3, l4]\n",
    "labels = [l.get_label() for l in lines]\n",
    "ax1.legend(lines, labels)\n",
    "\n",
    "plt.title('Rrs at different zenith angles - shape differences')\n",
    "\n",
    "ax1.tick_params(axis='y', left=False, labelleft=False)\n",
    "\n",
    "\n",
    "ax2.tick_params(axis='y', right=False, labelright=False)\n"
   ]
  },
  {
   "cell_type": "code",
   "execution_count": null,
   "id": "019d0137-9e3a-401c-8cb7-5de65d9ac7c7",
   "metadata": {
    "tags": []
   },
   "outputs": [],
   "source": [
    "%matplotlib widget\n",
    "fig, ax1 = plt.subplots()\n",
    "\n",
    "ax1.plot(lams, Lw14, label = 'Lw 7am', linestyle = '-', c = 'orange')\n",
    "ax1.plot(lams, Lw16, label = 'Lw 9am', linestyle = '-', c = 'red')\n",
    "ax1.plot(lams, Lw19, label = 'Lw 12pm', linestyle = '-', c = 'purple')\n",
    "ax1.plot(lams, Lw24, label = 'Lw 4pm', linestyle = '-', c = 'blue')\n",
    "\n",
    "plt.title('Lw at different zenith angles')\n",
    "plt.legend()\n"
   ]
  },
  {
   "cell_type": "code",
   "execution_count": null,
   "id": "6eb960a5-2ea3-4e7b-a652-ce6c89362c0b",
   "metadata": {
    "tags": []
   },
   "outputs": [],
   "source": [
    "%matplotlib widget\n",
    "fig, ax1 = plt.subplots()\n",
    "\n",
    "ax4 = ax1.twinx()\n",
    "l1, = ax4.plot(lams, Lw14, label = 'Lw 7am', linestyle = '--', color = 'orange')\n",
    "\n",
    "\n",
    "l2, = ax1.plot(lams, Lw16, label = 'Lw 9am', linestyle = '--', color = 'red')\n",
    "\n",
    "ax2 = ax1.twinx()\n",
    "\n",
    "l3, = ax2.plot(lams, Lw19, label = 'Lw 12pm', linestyle = '--', color = 'purple')\n",
    "\n",
    "ax3 = ax1.twinx()\n",
    "\n",
    "l4, = ax3.plot(lams, Lw24, label = 'Lw 4pm', linestyle = '--', color = 'blue')\n",
    "\n",
    "\n",
    "\n",
    "\n",
    "# Offset the second secondary y-axis\n",
    "ax3.spines['right'].set_position(('outward', 60))\n",
    "ax4.spines['right'].set_position(('outward', 60))\n",
    "\n",
    "\n",
    "lines = [l1, l2, l3, l4]\n",
    "labels = [l.get_label() for l in lines]\n",
    "ax1.legend(lines, labels)\n",
    "plt.title('Lw at different zenith angles - shape differences')\n",
    "\n",
    "\n",
    "ax1.tick_params(axis='y', left=False, labelleft=False)\n",
    "\n",
    "\n",
    "ax2.tick_params(axis='y', right=False, labelright=False)\n"
   ]
  },
  {
   "cell_type": "code",
   "execution_count": null,
   "id": "679122b6-66d6-480c-a902-38919cf6bfc1",
   "metadata": {
    "tags": []
   },
   "outputs": [],
   "source": [
    "%matplotlib widget\n",
    "fig, ax1 = plt.subplots()\n",
    "\n",
    "ax1.plot(lams, Ed14, label = 'Es 7am', linestyle = '-', c = 'orange')\n",
    "ax1.plot(lams, Ed16, label = 'Es 9am', linestyle = '-', c = 'red')\n",
    "ax1.plot(lams, Ed19, label = 'Es 12pm', linestyle = '-', c = 'purple')\n",
    "ax1.plot(lams, Ed24, label = 'Es 4pm', linestyle = '-', c = 'blue')\n",
    "\n",
    "plt.ylabel('W/m^2 nm sr')\n",
    "plt.title('Es at different zenith angles')\n",
    "plt.xlabel('Wavelength')\n",
    "ax1.legend()\n",
    "\n",
    "plt.tight_layout()\n",
    "plt.show()"
   ]
  },
  {
   "cell_type": "code",
   "execution_count": null,
   "id": "4da23793-fbbb-4644-a8ad-a07168565b1c",
   "metadata": {
    "tags": []
   },
   "outputs": [],
   "source": [
    "%matplotlib widget\n",
    "fig, ax1 = plt.subplots()\n",
    "\n",
    "ax4 = ax1.twinx()\n",
    "l1, = ax4.plot(lams, Ed14, label = 'Es 7am', linestyle = '--', color = 'orange')\n",
    "\n",
    "\n",
    "l2, = ax1.plot(lams, Ed16, label = 'Es 9am', linestyle = '--', color = 'red')\n",
    "\n",
    "ax2 = ax1.twinx()\n",
    "\n",
    "l3, = ax2.plot(lams, Ed19, label = 'Es 12pm', linestyle = '--', color = 'purple')\n",
    "\n",
    "ax3 = ax1.twinx()\n",
    "\n",
    "l4, = ax3.plot(lams, Ed24, label = 'Es 4pm', linestyle = '--', color = 'blue')\n",
    "\n",
    "\n",
    "\n",
    "\n",
    "# Offset the second secondary y-axis\n",
    "ax3.spines['right'].set_position(('outward', 60))\n",
    "ax4.spines['right'].set_position(('outward', 60))\n",
    "\n",
    "\n",
    "lines = [l1, l2, l3, l4]\n",
    "labels = [l.get_label() for l in lines]\n",
    "ax1.legend(lines, labels)\n",
    "plt.xlabel('Wavelength')\n",
    "plt.title('Es at different zenith angles - shape differences')\n",
    "\n",
    "\n",
    "ax1.tick_params(axis='y', left=False, labelleft=False)\n",
    "\n",
    "\n",
    "ax2.tick_params(axis='y', right=False, labelright=False)\n",
    "\n"
   ]
  },
  {
   "cell_type": "code",
   "execution_count": null,
   "id": "31aa37a3-c1b7-4218-8227-3bc9ab1ffbbf",
   "metadata": {},
   "outputs": [],
   "source": [
    "%matplotlib widget\n",
    "fig, ax1 = plt.subplots()\n",
    "\n",
    "ax1.plot(lams, Lu14, label = 'Lu 7am', linestyle = '-', c = 'orange')\n",
    "ax1.plot(lams, Lu16, label = 'Lu 9am', linestyle = '-', c = 'red')\n",
    "ax1.plot(lams, Lu19, label = 'Lu 12pm', linestyle = '-', c = 'purple')\n",
    "ax1.plot(lams, Lu24, label = 'Lu 4pm', linestyle = '-', c = 'blue')\n",
    "\n",
    "ax1.plot(lams, Lw14, label = 'Lw 7am', linestyle = '--', c = 'orange')\n",
    "ax1.plot(lams, Lw16, label = 'Lw 9am', linestyle = '--', c = 'red')\n",
    "ax1.plot(lams, Lw19, label = 'Lw 12pm', linestyle = '--', c = 'purple')\n",
    "ax1.plot(lams, Lw24, label = 'Lw 4pm', linestyle = '--', c = 'blue')\n",
    "\n",
    "plt.title('Differences in Lw and Lu(0+)')\n",
    "plt.xlabel('Wavelength')\n",
    "plt.legend()\n",
    "\n",
    "plt.show()\n",
    "\n"
   ]
  },
  {
   "cell_type": "code",
   "execution_count": null,
   "id": "9a055ee0-c3d3-4845-a09b-704513d06ae9",
   "metadata": {
    "tags": []
   },
   "outputs": [],
   "source": [
    "K14 = pd.read_excel('MAngles14.xlsx', sheet_name='Kd', skiprows = 3)\n",
    "K16 = pd.read_excel('MAngles16.xlsx', sheet_name='Kd', skiprows = 3)\n",
    "K19 = pd.read_excel('MAngles19.xlsx', sheet_name='Kd', skiprows = 3)\n",
    "K24 = pd.read_excel('MAngles24.xlsx', sheet_name='Kd', skiprows = 3)\n",
    "\n",
    "Kd14 = K14.loc[0:199, 0.005]\n",
    "Kd16 = K16.loc[0:199, 0.005]\n",
    "Kd19 = K19.loc[0:199, 0.005]\n",
    "Kd24 = K24.loc[0:199, 0.005]"
   ]
  },
  {
   "cell_type": "code",
   "execution_count": null,
   "id": "c40592e5-db76-4875-8452-191aceea0a46",
   "metadata": {
    "tags": []
   },
   "outputs": [],
   "source": [
    "%matplotlib widget\n",
    "fig, ax1 = plt.subplots()\n",
    "\n",
    "ax1.plot(lams, Kd14, label = 'Kd 7am', linestyle = '--', c = 'orange')\n",
    "ax1.plot(lams, Kd16, label = 'Kd 9am', linestyle = '--', c = 'red')\n",
    "ax1.plot(lams, Kd19, label = 'Kd 12pm', linestyle = '--', c = 'purple')\n",
    "ax1.plot(lams, Kd24, label = 'Kd 4pm', linestyle = '--', c = 'blue')\n",
    "\n",
    "plt.ylabel('m^-1')\n",
    "plt.title('Kd at different zenith angles')\n",
    "plt.xlabel('Wavelength')\n",
    "ax1.legend()\n",
    "\n",
    "plt.tight_layout()\n",
    "plt.show()"
   ]
  }
 ],
 "metadata": {
  "kernelspec": {
   "display_name": "Python 3 (ipykernel)",
   "language": "python",
   "name": "python3"
  },
  "language_info": {
   "codemirror_mode": {
    "name": "ipython",
    "version": 3
   },
   "file_extension": ".py",
   "mimetype": "text/x-python",
   "name": "python",
   "nbconvert_exporter": "python",
   "pygments_lexer": "ipython3",
   "version": "3.11.3"
  }
 },
 "nbformat": 4,
 "nbformat_minor": 5
}
